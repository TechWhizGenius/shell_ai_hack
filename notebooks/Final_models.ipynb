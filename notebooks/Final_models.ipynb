{
 "cells": [
  {
   "cell_type": "markdown",
   "metadata": {},
   "source": [
    "This file contains final models.\n",
    "\n"
   ]
  },
  {
   "cell_type": "code",
   "execution_count": 1,
   "metadata": {},
   "outputs": [],
   "source": [
    "# Importing packages\n",
    "\n",
    "from sklearn.model_selection import KFold\n",
    "from sklearn.multioutput import MultiOutputRegressor\n",
    "from sklearn.linear_model import LinearRegression\n",
    "from sklearn.ensemble import RandomForestRegressor\n",
    "from sklearn.metrics import mean_absolute_percentage_error\n",
    "import lightgbm as lgb\n",
    "import numpy as np\n",
    "import pandas as pd\n"
   ]
  },
  {
   "cell_type": "code",
   "execution_count": 2,
   "metadata": {},
   "outputs": [],
   "source": [
    "\n",
    "# Load the training and test datasets\n",
    "train_df = pd.read_csv(r\"C:\\Users\\tm0792.STUDENTS.007\\OneDrive - UNT System\\Competitions\\Shell ai Hackathon\\dataset\\train.csv\")\n",
    "test_df = pd.read_csv(r\"C:\\Users\\tm0792.STUDENTS.007\\OneDrive - UNT System\\Competitions\\Shell ai Hackathon\\dataset\\test.csv\")  \n"
   ]
  },
  {
   "cell_type": "code",
   "execution_count": 12,
   "metadata": {},
   "outputs": [],
   "source": [
    "# Extract features and targets from the training set\n",
    "X_train_full = train_df.iloc[:, :55]      # First 55 columns are features\n",
    "y_train_full = train_df.iloc[:, 55:]      # Last 10 columns are targets\n",
    "\n",
    "# Extract ID and features from the test set\n",
    "test_ids = test_df.iloc[:, 0]             # First column is ID\n",
    "X_test = test_df.iloc[:, 1:56]            # Next 55 columns are features\n",
    "\n",
    "\n"
   ]
  },
  {
   "cell_type": "code",
   "execution_count": 13,
   "metadata": {},
   "outputs": [],
   "source": [
    "#print(X_train_full)\n",
    "#print(X_train_full)"
   ]
  },
  {
   "cell_type": "code",
   "execution_count": 15,
   "metadata": {},
   "outputs": [
    {
     "name": "stdout",
     "output_type": "stream",
     "text": [
      "[LightGBM] [Info] Auto-choosing col-wise multi-threading, the overhead of testing was 0.001262 seconds.\n",
      "You can set `force_col_wise=true` to remove the overhead.\n",
      "[LightGBM] [Info] Total Bins 12982\n",
      "[LightGBM] [Info] Number of data points in the train set: 2000, number of used features: 55\n",
      "[LightGBM] [Info] Start training from score -0.016879\n",
      "[LightGBM] [Info] Auto-choosing col-wise multi-threading, the overhead of testing was 0.000738 seconds.\n",
      "You can set `force_col_wise=true` to remove the overhead.\n",
      "[LightGBM] [Info] Total Bins 12982\n",
      "[LightGBM] [Info] Number of data points in the train set: 2000, number of used features: 55\n",
      "[LightGBM] [Info] Start training from score -0.002076\n",
      "[LightGBM] [Info] Auto-choosing col-wise multi-threading, the overhead of testing was 0.000864 seconds.\n",
      "You can set `force_col_wise=true` to remove the overhead.\n",
      "[LightGBM] [Info] Total Bins 12982\n",
      "[LightGBM] [Info] Number of data points in the train set: 2000, number of used features: 55\n",
      "[LightGBM] [Info] Start training from score -0.014351\n",
      "[LightGBM] [Info] Auto-choosing col-wise multi-threading, the overhead of testing was 0.000732 seconds.\n",
      "You can set `force_col_wise=true` to remove the overhead.\n",
      "[LightGBM] [Info] Total Bins 12982\n",
      "[LightGBM] [Info] Number of data points in the train set: 2000, number of used features: 55\n",
      "[LightGBM] [Info] Start training from score -0.006068\n",
      "[LightGBM] [Info] Auto-choosing col-wise multi-threading, the overhead of testing was 0.000971 seconds.\n",
      "You can set `force_col_wise=true` to remove the overhead.\n",
      "[LightGBM] [Info] Total Bins 12982\n",
      "[LightGBM] [Info] Number of data points in the train set: 2000, number of used features: 55\n",
      "[LightGBM] [Info] Start training from score -0.015249\n",
      "[LightGBM] [Info] Auto-choosing col-wise multi-threading, the overhead of testing was 0.000742 seconds.\n",
      "You can set `force_col_wise=true` to remove the overhead.\n",
      "[LightGBM] [Info] Total Bins 12982\n",
      "[LightGBM] [Info] Number of data points in the train set: 2000, number of used features: 55\n",
      "[LightGBM] [Info] Start training from score -0.003497\n",
      "[LightGBM] [Info] Auto-choosing col-wise multi-threading, the overhead of testing was 0.000720 seconds.\n",
      "You can set `force_col_wise=true` to remove the overhead.\n",
      "[LightGBM] [Info] Total Bins 12982\n",
      "[LightGBM] [Info] Number of data points in the train set: 2000, number of used features: 55\n",
      "[LightGBM] [Info] Start training from score -0.013568\n",
      "[LightGBM] [Info] Auto-choosing col-wise multi-threading, the overhead of testing was 0.000912 seconds.\n",
      "You can set `force_col_wise=true` to remove the overhead.\n",
      "[LightGBM] [Info] Total Bins 12982\n",
      "[LightGBM] [Info] Number of data points in the train set: 2000, number of used features: 55\n",
      "[LightGBM] [Info] Start training from score -0.017236\n",
      "[LightGBM] [Info] Auto-choosing col-wise multi-threading, the overhead of testing was 0.000704 seconds.\n",
      "You can set `force_col_wise=true` to remove the overhead.\n",
      "[LightGBM] [Info] Total Bins 12982\n",
      "[LightGBM] [Info] Number of data points in the train set: 2000, number of used features: 55\n",
      "[LightGBM] [Info] Start training from score -0.001507\n",
      "[LightGBM] [Info] Auto-choosing col-wise multi-threading, the overhead of testing was 0.001013 seconds.\n",
      "You can set `force_col_wise=true` to remove the overhead.\n",
      "[LightGBM] [Info] Total Bins 12982\n",
      "[LightGBM] [Info] Number of data points in the train set: 2000, number of used features: 55\n",
      "[LightGBM] [Info] Start training from score -0.001795\n"
     ]
    }
   ],
   "source": [
    "# Train the LightGBM model\n",
    "final_model = MultiOutputRegressor(lgb.LGBMRegressor(n_estimators=100, random_state=42))\n",
    "final_model.fit(X_train_full, y_train_full)\n",
    "\n",
    "# Predict on the test set\n",
    "test_predictions = final_model.predict(X_test)\n",
    "\n",
    "# Create a DataFrame for predictions with original target column names\n",
    "pred_df = pd.DataFrame(test_predictions, columns=y_train_full.columns)\n",
    "\n",
    "# Add the ID column to the predictions\n",
    "pred_df.insert(0, 'ID', test_ids)"
   ]
  },
  {
   "cell_type": "code",
   "execution_count": 16,
   "metadata": {},
   "outputs": [],
   "source": [
    "# Save predictions to CSV\n",
    "pred_df.to_csv(\"C:/Users/tm0792.STUDENTS.007/OneDrive - UNT System/Competitions/Shell ai Hackathon/shell_ai_hack/Results/lightgbm_predictions.csv\", index=False)\n"
   ]
  },
  {
   "cell_type": "code",
   "execution_count": 19,
   "metadata": {},
   "outputs": [],
   "source": [
    "# Implementing catboost model.\n",
    "\n",
    "from catboost import CatBoostRegressor\n",
    "from sklearn.multioutput import MultiOutputRegressor\n",
    "\n",
    "# Extract features and targets from the training set\n",
    "X_train_full = train_df.iloc[:, :55]      # First 55 columns are features\n",
    "y_train_full = train_df.iloc[:, 55:]      # Last 10 columns are targets\n",
    "\n",
    "# Extract ID and features from the test set\n",
    "test_ids = test_df.iloc[:, 0]             # First column is ID\n",
    "X_test = test_df.iloc[:, 1:56]            # Next 55 columns are features\n",
    "\n",
    "# Train the CatBoost model\n",
    "final_model = MultiOutputRegressor(\n",
    "    CatBoostRegressor(\n",
    "        iterations=800,\n",
    "        learning_rate=0.05,\n",
    "        random_seed=42,\n",
    "        verbose=0\n",
    "    )\n",
    ")\n",
    "final_model.fit(X_train_full, y_train_full)\n",
    "\n",
    "# Predict on the test set\n",
    "test_predictions = final_model.predict(X_test)\n",
    "\n",
    "# Create a DataFrame for predictions with original target column names\n",
    "pred_df = pd.DataFrame(test_predictions, columns=y_train_full.columns)\n",
    "\n",
    "# Add the ID column to the predictions\n",
    "pred_df.insert(0, 'ID', test_ids)\n",
    "\n",
    "\n"
   ]
  },
  {
   "cell_type": "code",
   "execution_count": 20,
   "metadata": {},
   "outputs": [],
   "source": [
    "# Save predictions to CSV\n",
    "pred_df.to_csv(\"C:/Users/tm0792.STUDENTS.007/OneDrive - UNT System/Competitions/Shell ai Hackathon/shell_ai_hack/Results/catboost_predictions.csv\", index=False)\n"
   ]
  },
  {
   "cell_type": "code",
   "execution_count": null,
   "metadata": {},
   "outputs": [],
   "source": []
  }
 ],
 "metadata": {
  "kernelspec": {
   "display_name": ".venv",
   "language": "python",
   "name": "python3"
  },
  "language_info": {
   "codemirror_mode": {
    "name": "ipython",
    "version": 3
   },
   "file_extension": ".py",
   "mimetype": "text/x-python",
   "name": "python",
   "nbconvert_exporter": "python",
   "pygments_lexer": "ipython3",
   "version": "3.13.3"
  }
 },
 "nbformat": 4,
 "nbformat_minor": 2
}
